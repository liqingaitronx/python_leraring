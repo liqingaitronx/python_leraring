{
 "cells": [
  {
   "cell_type": "markdown",
   "metadata": {},
   "source": [
    "# Read the test log of real car and print it\n",
    "\n",
    "variable needed to read in:\n",
    "\n",
    "- Waypoints of the path\n",
    "- Current postion of car `(x, y)`\n",
    "- Target point `(x, y)`\n",
    "- Index of target point along the trajectory waypoints\n",
    "- gear of car\n",
    "- linespeed of car\n",
    "- steering wheel angle\n",
    "- front wheel angle"
   ]
  },
  {
   "cell_type": "code",
   "execution_count": null,
   "metadata": {},
   "outputs": [],
   "source": []
  },
  {
   "cell_type": "code",
   "execution_count": null,
   "metadata": {},
   "outputs": [],
   "source": []
  },
  {
   "cell_type": "code",
   "execution_count": null,
   "metadata": {},
   "outputs": [],
   "source": []
  },
  {
   "cell_type": "code",
   "execution_count": 1,
   "metadata": {
    "pycharm": {
     "name": "#%%\n"
    }
   },
   "outputs": [
    {
     "ename": "FileNotFoundError",
     "evalue": "[Errno 2] No such file or directory: 'F:/唐嘉辉/1122/log/F_Houtui_qianjin25/logfile.1.txt'",
     "output_type": "error",
     "traceback": [
      "\u001b[1;31m---------------------------------------------------------------------------\u001b[0m",
      "\u001b[1;31mFileNotFoundError\u001b[0m                         Traceback (most recent call last)",
      "\u001b[1;32m~\\AppData\\Local\\Temp\\ipykernel_4116\\3510524163.py\u001b[0m in \u001b[0;36m<module>\u001b[1;34m\u001b[0m\n\u001b[0;32m      4\u001b[0m \u001b[0mx_list\u001b[0m\u001b[1;33m,\u001b[0m \u001b[0my_list\u001b[0m\u001b[1;33m,\u001b[0m \u001b[0mheading_angle_list\u001b[0m\u001b[1;33m,\u001b[0m \u001b[0msteering_angle_list\u001b[0m\u001b[1;33m,\u001b[0m\u001b[0mnearest_index_list\u001b[0m\u001b[1;33m,\u001b[0m\u001b[0mvelocity_list\u001b[0m\u001b[1;33m,\u001b[0m\u001b[0mgear_list\u001b[0m\u001b[1;33m,\u001b[0m\u001b[0mtarget_x_list\u001b[0m\u001b[1;33m,\u001b[0m\u001b[0mtarget_y_list\u001b[0m\u001b[1;33m,\u001b[0m\u001b[0mtarget_index_list\u001b[0m \u001b[1;33m=\u001b[0m\u001b[0;31m \u001b[0m\u001b[0;31m\\\u001b[0m\u001b[1;33m\u001b[0m\u001b[0m\n\u001b[0;32m      5\u001b[0m     \u001b[1;33m[\u001b[0m\u001b[1;33m[\u001b[0m\u001b[1;33m]\u001b[0m \u001b[1;32mfor\u001b[0m \u001b[0mi\u001b[0m \u001b[1;32min\u001b[0m \u001b[0mrange\u001b[0m\u001b[1;33m(\u001b[0m\u001b[1;36m10\u001b[0m\u001b[1;33m)\u001b[0m\u001b[1;33m]\u001b[0m\u001b[1;33m\u001b[0m\u001b[0m\n\u001b[1;32m----> 6\u001b[1;33m \u001b[0mtestlist\u001b[0m\u001b[1;33m=\u001b[0m\u001b[0mopen\u001b[0m\u001b[1;33m(\u001b[0m\u001b[1;34m'F:/唐嘉辉/1122/log/F_Houtui_qianjin25/logfile.1.txt'\u001b[0m\u001b[1;33m,\u001b[0m\u001b[1;34m'r'\u001b[0m\u001b[1;33m)\u001b[0m\u001b[1;33m\u001b[0m\u001b[0m\n\u001b[0m\u001b[0;32m      7\u001b[0m \u001b[1;33m\u001b[0m\u001b[0m\n\u001b[0;32m      8\u001b[0m \u001b[1;32mdef\u001b[0m \u001b[0mfunc\u001b[0m\u001b[1;33m(\u001b[0m\u001b[0mtestlist\u001b[0m\u001b[1;33m)\u001b[0m\u001b[1;33m:\u001b[0m\u001b[1;33m\u001b[0m\u001b[0m\n",
      "\u001b[1;31mFileNotFoundError\u001b[0m: [Errno 2] No such file or directory: 'F:/唐嘉辉/1122/log/F_Houtui_qianjin25/logfile.1.txt'"
     ]
    }
   ],
   "source": [
    "import matplotlib.pyplot as plt\n",
    "substr1 = \"PurePursuitTrajectoryC current position\",\"PurePursuitTrajectoryC target point position\"\n",
    "substr2 = \"GetControlValueSrc\"\n",
    "x_list, y_list, heading_angle_list, steering_angle_list,nearest_index_list,velocity_list,gear_list,target_x_list,target_y_list,target_index_list = \\\n",
    "    [[] for i in range(10)]\n",
    "testlist=open('F:/唐嘉辉/1122/log/F_Houtui_qianjin25/logfile.1.txt','r')\n",
    "\n",
    "def func(testlist):\n",
    "    for line in testlist:\n",
    "        if substr1[0] in line:\n",
    "            x_list.append(float(line[line.index(\"(\") + 1:line.index(\",\") + 0]))\n",
    "            y_list.append(float(line[line.index(\", \") + 1:line.index(\")\") + 0]))\n",
    "            heading_angle_list.append(float(line[line.index(\"angle: \") + 7:line.index(\", steering\") + 0]))\n",
    "            steering_angle_list.append(float(line[line.index(\"steering angle:\") + 15:line.index(\", path\") + 0]))\n",
    "            nearest_index_list.append(float(line[line.index(\"path index: \") + 12:line.index(\", velocity\") + 0]))\n",
    "            velocity_list.append(float(line[line.index(\"velocity: \") + 10:line.index(\", gear\") + 0]))\n",
    "            gear_list.append(float(line[line.index(\"gear: \") + 6]))\n",
    "\n",
    "        if substr1[1] in line:\n",
    "            target_x_list.append(float(line[line.index(\"(\") + 1:line.index(\",\") + 0]))\n",
    "            target_y_list.append(float(line[line.index(\", \") + 1:line.index(\")\") + 0]))\n",
    "            target_index_list.append(float(line[line.index(\" path index: \") + 13:].replace(\"\\n\",\"\")))\n",
    "    return x_list,y_list,heading_angle_list,steering_angle_list,nearest_index_list,velocity_list,gear_list,target_x_list,target_y_list,target_index_list\n",
    "\n",
    "#获取第一次下发的期望车速值\n",
    "def func1(testlsit,substr2):\n",
    "    maxVel =[]\n",
    "    for line in testlsit:\n",
    "        if substr2 in line:\n",
    "            maxVel.append(float(line[line.index(\"ValueSrc \") + 8:line.index(\",\") + 0]))\n",
    "            break\n",
    "    return maxVel\n",
    "\n",
    "#获取实际车速达到期望车速值\n",
    "def func2(func1,velocity_list):\n",
    "    for vas in velocity_list:\n",
    "        if  func1[0] <= vas:\n",
    "            print(vas)\n",
    "\n",
    "# func2(func1(testlist,substr2),func(testlist)[5])\n",
    "# plt.figure(1)\n",
    "# plt.plot(float(x_list), float(y_list))\n",
    "time = [x*0.01 for x in range(0, len(func(testlist)[0]))]\n",
    "plt.figure(2)\n",
    "plt.plot(time, heading_angle_list)\n",
    "plt.xlabel(\"time(s)\")\n",
    "plt.ylabel(\"heading angle(rad)\")\n",
    "plt.figure(3)\n",
    "plt.plot(time, steering_angle_list)\n",
    "plt.xlabel(\"time(s)\"),plt.ylabel(\"steering angle(rad)\")\n",
    "plt.figure(4)\n",
    "plt.plot(time, velocity_list)\n",
    "plt.xlabel(\"time(s)\")\n",
    "plt.ylabel(\"velocity(m/s)\")\n",
    "plt.figure(5)\n",
    "plt.plot(time, gear_list)\n",
    "plt.xlabel(\"time(s)\"),plt.ylabel(\"gear\")"
   ]
  },
  {
   "cell_type": "code",
   "execution_count": null,
   "metadata": {},
   "outputs": [],
   "source": []
  },
  {
   "cell_type": "code",
   "execution_count": null,
   "metadata": {},
   "outputs": [],
   "source": []
  },
  {
   "cell_type": "code",
   "execution_count": null,
   "metadata": {},
   "outputs": [],
   "source": []
  }
 ],
 "metadata": {
  "kernelspec": {
   "display_name": "Python 3 (ipykernel)",
   "language": "python",
   "name": "python3"
  },
  "language_info": {
   "codemirror_mode": {
    "name": "ipython",
    "version": 3
   },
   "file_extension": ".py",
   "mimetype": "text/x-python",
   "name": "python",
   "nbconvert_exporter": "python",
   "pygments_lexer": "ipython3",
   "version": "3.7.0"
  },
  "vscode": {
   "interpreter": {
    "hash": "0506d40235a76af7072b9dde73e854fca58d0c8007a9b2d528ab39f715c47eca"
   }
  }
 },
 "nbformat": 4,
 "nbformat_minor": 2
}
